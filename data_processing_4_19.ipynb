{
 "cells": [
  {
   "cell_type": "markdown",
   "metadata": {},
   "source": [
    "# Processing the electron-phonon collision matrix"
   ]
  },
  {
   "cell_type": "markdown",
   "metadata": {},
   "source": [
    "This is meant to be a frills-free calculation of the electron-phonon collision matrix utiizing the data from Jin Jian Zhou for GaAs."
   ]
  },
  {
   "cell_type": "markdown",
   "metadata": {},
   "source": [
    "## Package imports"
   ]
  },
  {
   "cell_type": "code",
   "execution_count": 1,
   "metadata": {},
   "outputs": [],
   "source": [
    "import numpy as np\n",
    "\n",
    "# Image processing tools\n",
    "import skimage\n",
    "import skimage.filters\n",
    "\n",
    "import pandas as pd\n",
    "import scipy.optimize\n",
    "import scipy.stats as st\n",
    "import numba\n",
    "import itertools\n",
    "\n",
    "from mpl_toolkits.mplot3d import Axes3D\n",
    "import matplotlib.pyplot as plt\n",
    "\n",
    "from numpy.linalg import inv\n",
    "\n",
    "from tqdm import tqdm, trange\n",
    "from scipy import special, optimize\n",
    "from scipy import integrate\n",
    "\n",
    "import plotly.plotly as py\n",
    "import plotly.graph_objs as go\n",
    "import plotly\n",
    "#plotly.tools.set_credentials_file(username='AYChoi', api_key='ZacDa7fKo8hfiELPfs57')\n",
    "plotly.tools.set_credentials_file(username='AlexanderYChoi', api_key='VyLt05wzc89iXwSC82FO')"
   ]
  },
  {
   "cell_type": "markdown",
   "metadata": {},
   "source": [
    "## Data processing"
   ]
  },
  {
   "cell_type": "markdown",
   "metadata": {},
   "source": [
    "Take the raw text files and convert them into useful dataframes."
   ]
  },
  {
   "cell_type": "code",
   "execution_count": 2,
   "metadata": {},
   "outputs": [],
   "source": [
    "# Physical parameter definition\n",
    "a = 5.556                        # Lattice constant for GaAs [A]\n",
    "kb = 1.38064852*10**(-23)        # Boltzmann constant in SI [m^2 kg s^-2 K^-1]\n",
    "T = 300                          # Lattice temeprature [K]\n",
    "e = 1.602*10**(-19)              # Fundamental electronic charge [C]\n",
    "mu = 5.780                       # Chemical potential [eV]\n",
    "b = 8/1000                       # Gaussian broadening [eV]"
   ]
  },
  {
   "cell_type": "code",
   "execution_count": 124,
   "metadata": {},
   "outputs": [
    {
     "name": "stderr",
     "output_type": "stream",
     "text": [
      "100%|████████████████████████████████████████████████████████████████████| 7854608/7854608 [00:33<00:00, 237802.16it/s]\n"
     ]
    }
   ],
   "source": [
    "data = pd.read_csv('gaas.eph_matrix', sep='\\t',header= None,skiprows=(0,1))\n",
    "data.columns = ['0']\n",
    "data_array = data['0'].values\n",
    "new_array = np.zeros((len(data_array),7))\n",
    "for i1 in trange(len(data_array)):\n",
    "    new_array[i1,:] = data_array[i1].split()\n",
    "    \n",
    "g_df = pd.DataFrame(data=new_array,columns = ['k_inds','q_inds','k+q_inds','m_band','n_band','im_mode','g_element'])\n",
    "g_df[['k_inds','q_inds','k+q_inds','m_band','n_band','im_mode']] = g_df[['k_inds','q_inds','k+q_inds','m_band','n_band','im_mode']].apply(pd.to_numeric,downcast = 'integer')\n",
    "\n",
    "\n",
    "g_df = g_df.drop([\"m_band\",\"n_band\"],axis=1)"
   ]
  },
  {
   "cell_type": "code",
   "execution_count": 4,
   "metadata": {},
   "outputs": [
    {
     "name": "stderr",
     "output_type": "stream",
     "text": [
      "100%|██████████████████████████████████████████████████████████████████████████| 2213/2213 [00:00<00:00, 316986.37it/s]\n",
      "100%|██████████████████████████████████████████████████████████████████████| 126480/126480 [00:00<00:00, 321872.96it/s]\n",
      "100%|████████████████████████████████████████████████████████████████████████| 21080/21080 [00:00<00:00, 325178.11it/s]\n"
     ]
    }
   ],
   "source": [
    "# Import electron energy library\n",
    "enk = pd.read_csv('gaas.enk', sep='\\t',header= None)\n",
    "enk.columns = ['0']\n",
    "enk_array = enk['0'].values\n",
    "new_enk_array = np.zeros((len(enk_array),3))\n",
    "for i1 in trange(len(enk_array)):\n",
    "    new_enk_array[i1,:] = enk_array[i1].split()\n",
    "    \n",
    "enk_df = pd.DataFrame(data=new_enk_array,columns = ['k_inds','band_inds','energy [Ryd]'])\n",
    "enk_df[['k_inds','band_inds']] = enk_df[['k_inds','band_inds']].apply(pd.to_numeric,downcast = 'integer')\n",
    "enk_df = enk_df.drop(['band_inds'],axis=1)\n",
    "\n",
    "# Import phonon energy library\n",
    "enq = pd.read_csv('gaas.enq', sep='\\t',header= None)\n",
    "enq.columns = ['0']\n",
    "enq_array = enq['0'].values\n",
    "new_enq_array = np.zeros((len(enq_array),3))\n",
    "for i1 in trange(len(enq_array)):\n",
    "    new_enq_array[i1,:] = enq_array[i1].split()\n",
    "    \n",
    "enq_df = pd.DataFrame(data=new_enq_array,columns = ['q_inds','im_mode','energy [Ryd]'])\n",
    "enq_df[['q_inds','im_mode']] = enq_df[['q_inds','im_mode']].apply(pd.to_numeric,downcast = 'integer')\n",
    "\n",
    "\n",
    "# Import phonon q-point index\n",
    "qpts = pd.read_csv('gaas.qpts', sep='\\t',header= None)\n",
    "qpts.columns = ['0']\n",
    "qpts_array = qpts['0'].values\n",
    "new_qpt_array = np.zeros((len(qpts_array),4))\n",
    "\n",
    "for i1 in trange(len(qpts_array)):\n",
    "    new_qpt_array[i1,:] = qpts_array[i1].split()\n",
    "    \n",
    "qpts_df = pd.DataFrame(data=new_qpt_array,columns = ['q_inds','b1','b2','b3'])\n",
    "qpts_df[['q_inds']] = qpts_df[['q_inds']].apply(pd.to_numeric,downcast = 'integer')"
   ]
  },
  {
   "cell_type": "code",
   "execution_count": 5,
   "metadata": {},
   "outputs": [
    {
     "name": "stderr",
     "output_type": "stream",
     "text": [
      "100%|██████████████████████████████████████████████████████████████████████████| 2213/2213 [00:00<00:00, 184918.71it/s]\n"
     ]
    }
   ],
   "source": [
    "# Import electron k-point index and group velocities\n",
    "\n",
    "kvel = pd.read_csv('gaas.vel', sep='\\t',header= None,skiprows=[0,1,2])\n",
    "kvel.columns = ['0']\n",
    "kvel_array = kvel['0'].values\n",
    "new_kvel_array = np.zeros((len(kvel_array),10))\n",
    "for i1 in trange(len(kvel_array)):\n",
    "    new_kvel_array[i1,:] = kvel_array[i1].split()\n",
    "    \n",
    "kvel_df = pd.DataFrame(data=new_kvel_array,columns = ['k_inds','bands','energy','kx [2pi/alat]','ky [2pi/alat]','kz [2pi/alat]','vx_dir','vy_dir','vz_dir','v_mag [m/s]'])\n",
    "kvel_df[['k_inds']] = kvel_df[['k_inds']].apply(pd.to_numeric,downcast = 'integer')\n",
    "\n",
    "kvel_edit = kvel_df.copy(deep=True)\n",
    "\n",
    "# Shift the points back into the first BZ\n",
    "kx_plus = kvel_df['kx [2pi/alat]'] > 0.5\n",
    "kx_minus = kvel_df['kx [2pi/alat]'] < -0.5\n",
    "\n",
    "ky_plus = kvel_df['ky [2pi/alat]'] > 0.5\n",
    "ky_minus = kvel_df['ky [2pi/alat]'] < -0.5\n",
    "\n",
    "kz_plus = kvel_df['kz [2pi/alat]'] > 0.5\n",
    "kz_minus = kvel_df['kz [2pi/alat]'] < -0.5\n",
    "\n",
    "kvel_edit.loc[kx_plus,'kx [2pi/alat]'] = kvel_df.loc[kx_plus,'kx [2pi/alat]'] -1\n",
    "kvel_edit.loc[kx_minus,'kx [2pi/alat]'] = kvel_df.loc[kx_minus,'kx [2pi/alat]'] +1\n",
    "\n",
    "kvel_edit.loc[ky_plus,'ky [2pi/alat]'] = kvel_df.loc[ky_plus,'ky [2pi/alat]'] -1\n",
    "kvel_edit.loc[ky_minus,'ky [2pi/alat]'] = kvel_df.loc[ky_minus,'ky [2pi/alat]'] +1\n",
    "\n",
    "kvel_edit.loc[kz_plus,'kz [2pi/alat]'] = kvel_df.loc[kz_plus,'kz [2pi/alat]'] -1\n",
    "kvel_edit.loc[kz_minus,'kz [2pi/alat]'] = kvel_df.loc[kz_minus,'kz [2pi/alat]'] +1\n",
    "\n",
    "kvel_df = kvel_edit.copy(deep=True)\n",
    "kvel_df.head()\n",
    "\n",
    "cart_kpts_df = kvel_df.copy(deep=True)\n",
    "cart_kpts_df['kx [2pi/alat]'] = cart_kpts_df['kx [2pi/alat]'].values*2*np.pi/a\n",
    "cart_kpts_df['ky [2pi/alat]'] = cart_kpts_df['ky [2pi/alat]'].values*2*np.pi/a\n",
    "cart_kpts_df['kz [2pi/alat]'] = cart_kpts_df['kz [2pi/alat]'].values*2*np.pi/a\n",
    "\n",
    "cart_kpts_df.columns = ['k_inds', 'bands', 'energy', 'kx [1/A]', 'ky [1/A]','kz [1/A]', 'vx_dir', 'vy_dir', 'vz_dir', 'v_mag [m/s]']\n",
    "\n",
    "cart_kpts_df  = cart_kpts_df.drop(['bands'],axis=1)"
   ]
  },
  {
   "cell_type": "code",
   "execution_count": 92,
   "metadata": {},
   "outputs": [],
   "source": [
    "def fermi_distribution(g_df,mu,T):\n",
    "    \"\"\"\n",
    "    This function takes a list of k-point indices and returns the Fermi-distributions and energies associated with each k-point on that list. The Fermi distributions are calculated with respect to a particular chemical potential.      \n",
    "    Parameters:\n",
    "    -----------\n",
    "    \n",
    "    g_df : pandas dataframe containing:\n",
    "    \n",
    "        k_inds : vector_like, shape (n,1)\n",
    "        Index of k point (pre-collision)\n",
    "        \n",
    "        q_inds : vector_like, shape (n,1)\n",
    "        Index of q point\n",
    "        \n",
    "        k+q_inds : vector_like, shape (n,1)\n",
    "        Index of k point (post-collision)\n",
    "        \n",
    "        m_band : vector_like, shape (n,1)\n",
    "        Band index of post-collision state\n",
    "        \n",
    "        n_band : vector_like, shape (n,1)\n",
    "        Band index of pre-collision state\n",
    "        \n",
    "        im_mode : vector_like, shape (n,1)\n",
    "        Polarization of phonon mode\n",
    "        \n",
    "        g_element : vector_like, shape (n,1)\n",
    "        E-ph matrix element\n",
    "        \n",
    "        k_energy : vector_like, shape (n,1)\n",
    "        Energy of the pre collision state\n",
    "        \n",
    "        k+q_energy : vector_like, shape (n,1)\n",
    "        Energy of the post collision state\n",
    "        \n",
    "        \n",
    "    mu : scalar\n",
    "    Chemical potential of electronic states [eV]\n",
    "    \n",
    "    T : scalar\n",
    "    Lattice temperature in Kelvin\n",
    "    \n",
    "    Returns:\n",
    "    --------\n",
    "    \n",
    "    g_df : pandas dataframe containing:\n",
    "\n",
    "        ...\n",
    "        k_fermi_dist : vector_like, shape (n,1)\n",
    "        Fermi distribution of pre collision state\n",
    "        \n",
    "        k+q_fermi_dist : vector_like, shape (n,1)\n",
    "        Fermi distribution of post collision state\n",
    "         \n",
    "    \"\"\"\n",
    "    # Physical constants    \n",
    "    e = 1.602*10**(-19) # fundamental electronic charge [C]\n",
    "    kb = 1.38064852*10**(-23); # Boltzmann constant in SI [m^2 kg s^-2 K^-1]\n",
    "\n",
    "\n",
    "    g_df['k_FD'] = (np.exp((g_df['k_en [eV]'].values*e - mu*e)/(kb*T)) + 1)**(-1)\n",
    "    g_df['k+q_FD'] = (np.exp((g_df['k+q_en [eV]'].values*e - mu*e)/(kb*T)) + 1)**(-1)\n",
    "\n",
    "    return g_df\n",
    "\n",
    "\n",
    "def bose_distribution(g_df,T):\n",
    "    \"\"\"\n",
    "    This function takes a list of q-point indices and returns the Bose-Einstein distributions associated with each q-point on that list.    \n",
    "    Parameters:\n",
    "    -----------\n",
    "    \n",
    "    g_df : pandas dataframe containing:\n",
    "    \n",
    "        ...\n",
    "    \n",
    "    T : scalar\n",
    "    Lattice temperature in Kelvin\n",
    "    \n",
    "    Returns:\n",
    "    --------\n",
    "    \n",
    "    g_df : pandas dataframe containing:\n",
    "\n",
    "        ...\n",
    "        \n",
    "        BE : vector_like, shape (n,1)\n",
    "        Bose-einstein distribution\n",
    "         \n",
    "    \"\"\"\n",
    "    # Physical constants    \n",
    "    e = 1.602*10**(-19) # fundamental electronic charge [C]\n",
    "    kb = 1.38064852*10**(-23); # Boltzmann constant in SI [m^2 kg s^-2 K^-1]\n",
    "\n",
    "    g_df['BE'] = (np.exp((g_df['q_en [eV]'].values*e)/(kb*T)) - 1)**(-1)\n",
    "    return g_df\n",
    "\n",
    "\n",
    "def bosonic_processing(g_df,enq_df,T):\n",
    "    \"\"\"\n",
    "    This function takes the g dataframe and assigns a phonon energy from the relevant phonon library to each collision and the appropriate Bose-Einstein distribution.\n",
    "    -----------\n",
    "    \n",
    "    g_df : pandas dataframe containing:\n",
    "    \n",
    "    \n",
    "    Returns:\n",
    "    --------\n",
    "    \n",
    "    g_df : pandas dataframe containing:\n",
    "    \n",
    "    ...\n",
    "        BE : vector_like, shape (n,1)\n",
    "        Bose-Einstein distribution of the phonon mediating a collision\n",
    "        \n",
    "        q_en [eV] : vector_like, shape (n,1)\n",
    "        The energy of the phonon mode mediating a collision\n",
    "         \n",
    "    \"\"\"\n",
    "    \n",
    "    # Physical constants\n",
    "    e = 1.602*10**(-19) # fundamental electronic charge [C]\n",
    "    kb = 1.38064852*10**(-23); # Boltzmann constant in SI [m^2 kg s^-2 K^-1]\n",
    "    \n",
    "    modified_g_df = g_df.copy(deep=True)\n",
    "    modified_g_df.set_index(['q_inds', 'im_mode'], inplace=True)\n",
    "    modified_g_df = modified_g_df.sort_index()\n",
    "    modified_enq_df = enq_df.copy(deep=True)\n",
    "    modified_enq_df.set_index(['q_inds', 'im_mode'], inplace=True)\n",
    "    modified_enq_df = modified_enq_df.sort_index()\n",
    "    modified_enq_df = modified_enq_df.loc[modified_g_df.index.unique()]\n",
    "    \n",
    "    modified_enq_df = modified_enq_df.reset_index()\n",
    "    modified_enq_df = modified_enq_df.sort_values(['q_inds','im_mode'],ascending=True)\n",
    "    modified_enq_df = modified_enq_df[['q_inds','im_mode','energy [Ryd]']]\n",
    "    modified_enq_df['q_id'] = modified_enq_df.groupby(['q_inds','im_mode']).ngroup()\n",
    "    g_df['q_id'] = g_df.sort_values(['q_inds','im_mode'],ascending=True).groupby(['q_inds','im_mode']).ngroup()\n",
    "    \n",
    "    g_df['q_en [eV]'] = modified_enq_df['energy [Ryd]'].values[g_df['q_id'].values]*13.6056980659\n",
    "    \n",
    "    g_df = bose_distribution(g_df,T)\n",
    "    \n",
    "    return g_df\n",
    "\n",
    "\n",
    "def fermionic_processing(g_df,cart_kpts_df,mu,T,b):\n",
    "    \"\"\"\n",
    "    This function takes the g dataframe and assigns an electron energy from the relevant electron library to the pre and post collision states and the appropriate Fermi-Diract distributions.\n",
    "    -----------\n",
    "    \n",
    "    g_df : pandas dataframe containing:\n",
    "    \n",
    "    ...\n",
    "    \n",
    "    Returns:\n",
    "    --------\n",
    "    \n",
    "    g_df : pandas dataframe containing:\n",
    "    \n",
    "    ...\n",
    "        k_fermi_dist : vector_like, shape (n,1)\n",
    "        Fermi distribution of pre collision state\n",
    "        \n",
    "        k+q_fermi_dist : vector_like, shape (n,1)\n",
    "        Fermi distribution of post collision state\n",
    "         \n",
    "    \"\"\"\n",
    "\n",
    "    # Pre-collision\n",
    "    modified_g_df_k = g_df.copy(deep=True)\n",
    "    modified_g_df_k.set_index(['k_inds'], inplace=True)\n",
    "    modified_g_df_k = modified_g_df_k.sort_index()\n",
    "\n",
    "    modified_k_df = cart_kpts_df.copy(deep=True)\n",
    "    modified_k_df.set_index(['k_inds'], inplace=True)\n",
    "    modified_k_df = modified_k_df.sort_index()\n",
    "    modified_k_df = modified_k_df.loc[modified_g_df_k.index.unique()]\n",
    "    \n",
    "    modified_k_df = modified_k_df.reset_index()\n",
    "    modified_k_df = modified_k_df.sort_values(['k_inds'],ascending=True)\n",
    "    modified_k_df = modified_k_df[['k_inds','energy','kx [1/A]','ky [1/A]','kz [1/A]']]\n",
    "    \n",
    "    modified_k_df['k_id'] = modified_k_df.groupby(['k_inds']).ngroup()\n",
    "    g_df['k_id'] = g_df.sort_values(['k_inds'],ascending=True).groupby(['k_inds']).ngroup()   \n",
    "    g_df['k_en [eV]'] = modified_k_df['energy'].values[g_df['k_id'].values]\n",
    "    \n",
    "    g_df['kx [1/A]'] = modified_k_df['kx [1/A]'].values[g_df['k_id'].values]\n",
    "    g_df['ky [1/A]'] = modified_k_df['ky [1/A]'].values[g_df['k_id'].values]\n",
    "    g_df['kz [1/A]'] = modified_k_df['kz [1/A]'].values[g_df['k_id'].values]\n",
    "\n",
    "    \n",
    "    # Post-collision\n",
    "    modified_g_df_kq = g_df.copy(deep=True)\n",
    "    modified_g_df_kq.set_index(['k_inds'], inplace=True)\n",
    "    modified_g_df_kq = modified_g_df_kq.sort_index()\n",
    "    \n",
    "    modified_k_df = cart_kpts_df.copy(deep=True)\n",
    "    modified_k_df.set_index(['k_inds'], inplace=True)\n",
    "    modified_k_df = modified_k_df.sort_index()\n",
    "    modified_k_df = modified_k_df.loc[modified_g_df_kq.index.unique()]\n",
    "    \n",
    "    modified_k_df = modified_k_df.reset_index()\n",
    "    modified_k_df = modified_k_df.sort_values(['k_inds'],ascending=True)\n",
    "    modified_k_df = modified_k_df[['k_inds','energy','kx [1/A]','ky [1/A]','kz [1/A]']]\n",
    "    \n",
    "    modified_k_df['k+q_id'] = modified_k_df.groupby(['k_inds']).ngroup()\n",
    "    g_df['k+q_id'] = g_df.sort_values(['k+q_inds'],ascending=True).groupby(['k+q_inds']).ngroup()   \n",
    "    g_df['k+q_en [eV]'] = modified_k_df['energy'].values[g_df['k+q_id'].values]\n",
    "    \n",
    "    g_df['kqx [1/A]'] = modified_k_df['kx [1/A]'].values[g_df['k+q_id'].values]\n",
    "    g_df['kqy [1/A]'] = modified_k_df['ky [1/A]'].values[g_df['k+q_id'].values]\n",
    "    g_df['kqz [1/A]'] = modified_k_df['kz [1/A]'].values[g_df['k+q_id'].values]\n",
    "\n",
    "    \n",
    "    abs_inds = g_df['k_en [eV]'] < g_df['k+q_en [eV]'] #absorbed indices\n",
    "    ems_inds = g_df['k_en [eV]'] > g_df['k+q_en [eV]'] #emission indices\n",
    "\n",
    "    \n",
    "    g_df.loc[abs_inds,'collision_state'] = 1\n",
    "    g_df.loc[ems_inds,'collision_state'] = -1\n",
    "    \n",
    "    g_df = fermi_distribution(g_df,mu, T)\n",
    "    \n",
    "    g_df = g_df.drop(['k_id','k+q_id'],axis=1)\n",
    "    \n",
    "    g_df = gaussian_weight(g_df,b)\n",
    "    \n",
    "    return g_df\n",
    "\n",
    "def gaussian_weight(g_df,n):\n",
    "    \"\"\"\n",
    "    This function assigns the value of the delta function approximated by a Gaussian with broadening n.\n",
    "    \n",
    "    Parameters:\n",
    "    -----------\n",
    "    \n",
    "    g_df : pandas dataframe containing:\n",
    "\n",
    "        ...\n",
    "            \n",
    "    n : scalar\n",
    "    Broadening of Gaussian in eV\n",
    "    \n",
    "    Returns:\n",
    "    --------\n",
    "    \"\"\"\n",
    "    abs_inds = g_df['collision_state'] == 1 #absorbed indices\n",
    "    ems_inds = g_df['collision_state'] == -1 #emission indices\n",
    "    \n",
    "    energy_delta_ems = g_df.loc[ems_inds,'k_en [eV]'].values - g_df.loc[ems_inds,'k+q_en [eV]'].values - g_df.loc[ems_inds,'q_en [eV]'].values\n",
    "    energy_delta_abs = g_df.loc[abs_inds,'k_en [eV]'].values - g_df.loc[abs_inds,'k+q_en [eV]'].values + g_df.loc[abs_inds,'q_en [eV]'].values\n",
    "    \n",
    "    g_df.loc[abs_inds,'gaussian'] = 1/np.sqrt(np.pi)*1/n*np.exp(-(energy_delta_abs/n)**2)\n",
    "    g_df.loc[ems_inds,'gaussian'] = 1/np.sqrt(np.pi)*1/n*np.exp(-(energy_delta_ems/n)**2)\n",
    "    \n",
    "    return g_df\n",
    "\n",
    "def populate_reciprocals(g_df):\n",
    "    \"\"\"\n",
    "    The g^2 elements are invariant under substitution of k and k'. Jin-Jian provided the minimal set, that is for a given k-pair linked through a particular collision \n",
    "    and characterized by a say an emission, the reciprocal absorbtion is not included. Here we repopulate these states.\n",
    "    -----------\n",
    "    \n",
    "    g_df : pandas dataframe containing:\n",
    "    \n",
    "    ...\n",
    "    \n",
    "    Returns:\n",
    "    --------\n",
    "    \n",
    "    g_df : pandas dataframe containing:\n",
    "    \n",
    "    ...\n",
    "         \n",
    "    \"\"\"\n",
    "\n",
    "    modified_g_df = g_df.copy(deep=True)\n",
    "\n",
    "    flipped_inds = g_df['k_inds']>g_df['k+q_inds']\n",
    "    modified_g_df.loc[flipped_inds,'k_inds'] = g_df.loc[flipped_inds,'k+q_inds']\n",
    "    modified_g_df.loc[flipped_inds,'k+q_inds'] = g_df.loc[flipped_inds,'k_inds']\n",
    "\n",
    "    modified_g_df.loc[flipped_inds,'k_FD'] = g_df.loc[flipped_inds,'k+q_FD']\n",
    "    modified_g_df.loc[flipped_inds,'k+q_FD'] = g_df.loc[flipped_inds,'k_FD']\n",
    "\n",
    "    modified_g_df.loc[flipped_inds,'k_en [eV]'] = g_df.loc[flipped_inds,'k+q_en [eV]']\n",
    "    modified_g_df.loc[flipped_inds,'k+q_en [eV]'] = g_df.loc[flipped_inds,'k_en [eV]']\n",
    "\n",
    "    modified_g_df.loc[flipped_inds,'collision_state'] = g_df.loc[flipped_inds,'collision_state']*-1\n",
    "    \n",
    "    modified_g_df.loc[flipped_inds,'kqx [1/A]'] = g_df.loc[flipped_inds,'kx [1/A]']\n",
    "    modified_g_df.loc[flipped_inds,'kqy [1/A]'] = g_df.loc[flipped_inds,'ky [1/A]']\n",
    "    modified_g_df.loc[flipped_inds,'kqz [1/A]'] = g_df.loc[flipped_inds,'kz [1/A]']\n",
    "    modified_g_df.loc[flipped_inds,'kx [1/A]'] = g_df.loc[flipped_inds,'kqx [1/A]']\n",
    "    modified_g_df.loc[flipped_inds,'ky [1/A]'] = g_df.loc[flipped_inds,'kqy [1/A]']\n",
    "    modified_g_df.loc[flipped_inds,'kz [1/A]'] = g_df.loc[flipped_inds,'kqz [1/A]']\n",
    "    \n",
    "    modified_g_df['k_pair_id'] = modified_g_df.groupby(['k_inds','k+q_inds']).ngroup()\n",
    "\n",
    "\n",
    "    reverse_df = modified_g_df.copy(deep=True)\n",
    "\n",
    "    reverse_df['k_inds'] = modified_g_df['k+q_inds']\n",
    "    reverse_df['k+q_inds'] = modified_g_df['k_inds']\n",
    "\n",
    "    reverse_df['k_FD'] = modified_g_df['k+q_FD']\n",
    "    reverse_df['k+q_FD'] = modified_g_df['k_FD']\n",
    "\n",
    "    reverse_df['k_en [eV]'] = modified_g_df['k+q_en [eV]']\n",
    "    reverse_df['k+q_en [eV]'] = modified_g_df['k_en [eV]']\n",
    "\n",
    "    reverse_df['collision_state'] = modified_g_df['collision_state']*-1\n",
    "    \n",
    "    reverse_df['kqx [1/A]'] = modified_g_df['kx [1/A]']\n",
    "    reverse_df['kqy [1/A]'] = modified_g_df['ky [1/A]']\n",
    "    reverse_df['kqz [1/A]'] = modified_g_df['kz [1/A]']\n",
    "    reverse_df['kx [1/A]'] = modified_g_df['kqx [1/A]']\n",
    "    reverse_df['ky [1/A]'] = modified_g_df['kqy [1/A]']\n",
    "    reverse_df['kz [1/A]'] = modified_g_df['kqz [1/A]']\n",
    "\n",
    "    full_g_df = modified_g_df.append(reverse_df)\n",
    "\n",
    "    \n",
    "    return full_g_df"
   ]
  },
  {
   "cell_type": "code",
   "execution_count": 7,
   "metadata": {},
   "outputs": [],
   "source": [
    "g_df = bosonic_processing(g_df,enq_df,T)\n",
    "g_df = fermionic_processing(g_df,cart_kpts_df,mu,T,b)"
   ]
  },
  {
   "cell_type": "code",
   "execution_count": 8,
   "metadata": {},
   "outputs": [
    {
     "data": {
      "text/plain": [
       "(3909346, 3916949)"
      ]
     },
     "execution_count": 8,
     "metadata": {},
     "output_type": "execute_result"
    }
   ],
   "source": [
    "np.sum(g_df['collision_state'] == 1),np.sum(g_df['collision_state'] == -1),"
   ]
  },
  {
   "cell_type": "code",
   "execution_count": 10,
   "metadata": {},
   "outputs": [],
   "source": [
    "full_g_df = populate_reciprocals(g_df)"
   ]
  },
  {
   "cell_type": "code",
   "execution_count": 11,
   "metadata": {},
   "outputs": [],
   "source": [
    "del g_df"
   ]
  },
  {
   "cell_type": "code",
   "execution_count": 13,
   "metadata": {},
   "outputs": [
    {
     "data": {
      "text/plain": [
       "(7826295, 7826295)"
      ]
     },
     "execution_count": 13,
     "metadata": {},
     "output_type": "execute_result"
    }
   ],
   "source": [
    "np.sum(full_g_df['collision_state'] == 1),np.sum(full_g_df['collision_state'] == -1),"
   ]
  },
  {
   "cell_type": "code",
   "execution_count": 14,
   "metadata": {},
   "outputs": [],
   "source": [
    "full_g_df = full_g_df[['k_inds', 'q_inds', 'k+q_inds', 'im_mode', 'g_element', 'q_id',\n",
    "       'q_en [eV]', 'BE', 'k_en [eV]', 'k+q_en [eV]',\n",
    "       'k_FD', 'k+q_FD','collision_state', 'kx [1/A]', 'ky [1/A]', 'kz [1/A]', 'kqx [1/A]',\n",
    "       'kqy [1/A]', 'kqz [1/A]', 'k_pair_id','gaussian']]"
   ]
  },
  {
   "cell_type": "code",
   "execution_count": 64,
   "metadata": {},
   "outputs": [],
   "source": [
    "collisionless_df = full_g_df.loc[full_g_df['collision_state'].isnull()]\n",
    "low_collisionless_df = collisionless_df.loc[collisionless_df['k_inds']<collisionless_df['k+q_inds']]\n",
    "high_collisionless_df = collisionless_df.loc[collisionless_df['k_inds']>collisionless_df['k+q_inds']]"
   ]
  },
  {
   "cell_type": "code",
   "execution_count": 78,
   "metadata": {},
   "outputs": [
    {
     "name": "stderr",
     "output_type": "stream",
     "text": [
      "C:\\Users\\AlexanderChoi\\Anaconda3\\lib\\site-packages\\ipykernel_launcher.py:1: SettingWithCopyWarning:\n",
      "\n",
      "\n",
      "A value is trying to be set on a copy of a slice from a DataFrame.\n",
      "Try using .loc[row_indexer,col_indexer] = value instead\n",
      "\n",
      "See the caveats in the documentation: http://pandas.pydata.org/pandas-docs/stable/indexing.html#indexing-view-versus-copy\n",
      "\n",
      "C:\\Users\\AlexanderChoi\\Anaconda3\\lib\\site-packages\\ipykernel_launcher.py:2: SettingWithCopyWarning:\n",
      "\n",
      "\n",
      "A value is trying to be set on a copy of a slice from a DataFrame.\n",
      "Try using .loc[row_indexer,col_indexer] = value instead\n",
      "\n",
      "See the caveats in the documentation: http://pandas.pydata.org/pandas-docs/stable/indexing.html#indexing-view-versus-copy\n",
      "\n"
     ]
    }
   ],
   "source": [
    "low_collisionless_df['collision_state'] = 1\n",
    "high_collisionless_df['collision_state'] = -1\n",
    "\n",
    "collisionless_df.loc[collisionless_df['k_inds']<collisionless_df['k+q_inds']] = low_collisionless_df\n",
    "collisionless_df.loc[collisionless_df['k_inds']>collisionless_df['k+q_inds']] = high_collisionless_df\n",
    "\n",
    "full_g_df.loc[full_g_df['collision_state'].isnull()] = collisionless_df"
   ]
  },
  {
   "cell_type": "code",
   "execution_count": 80,
   "metadata": {},
   "outputs": [],
   "source": [
    "del collisionless_df\n",
    "del low_collisionless_df\n",
    "del high_collisionless_df"
   ]
  },
  {
   "cell_type": "code",
   "execution_count": 93,
   "metadata": {},
   "outputs": [],
   "source": [
    "full_g_df= gaussian_weight(full_g_df,b)"
   ]
  },
  {
   "cell_type": "code",
   "execution_count": 109,
   "metadata": {},
   "outputs": [
    {
     "data": {
      "text/html": [
       "<div>\n",
       "<style scoped>\n",
       "    .dataframe tbody tr th:only-of-type {\n",
       "        vertical-align: middle;\n",
       "    }\n",
       "\n",
       "    .dataframe tbody tr th {\n",
       "        vertical-align: top;\n",
       "    }\n",
       "\n",
       "    .dataframe thead th {\n",
       "        text-align: right;\n",
       "    }\n",
       "</style>\n",
       "<table border=\"1\" class=\"dataframe\">\n",
       "  <thead>\n",
       "    <tr style=\"text-align: right;\">\n",
       "      <th></th>\n",
       "      <th>k_inds</th>\n",
       "      <th>q_inds</th>\n",
       "      <th>k+q_inds</th>\n",
       "      <th>im_mode</th>\n",
       "      <th>g_element</th>\n",
       "      <th>q_id</th>\n",
       "      <th>q_en [eV]</th>\n",
       "      <th>BE</th>\n",
       "      <th>k_en [eV]</th>\n",
       "      <th>k+q_en [eV]</th>\n",
       "      <th>...</th>\n",
       "      <th>k+q_FD</th>\n",
       "      <th>collision_state</th>\n",
       "      <th>kx [1/A]</th>\n",
       "      <th>ky [1/A]</th>\n",
       "      <th>kz [1/A]</th>\n",
       "      <th>kqx [1/A]</th>\n",
       "      <th>kqy [1/A]</th>\n",
       "      <th>kqz [1/A]</th>\n",
       "      <th>k_pair_id</th>\n",
       "      <th>gaussian</th>\n",
       "    </tr>\n",
       "  </thead>\n",
       "  <tbody>\n",
       "    <tr>\n",
       "      <th>0</th>\n",
       "      <td>1</td>\n",
       "      <td>1</td>\n",
       "      <td>2</td>\n",
       "      <td>5</td>\n",
       "      <td>6.279619e-20</td>\n",
       "      <td>1</td>\n",
       "      <td>0.033090</td>\n",
       "      <td>0.385195</td>\n",
       "      <td>6.065254</td>\n",
       "      <td>6.093535</td>\n",
       "      <td>...</td>\n",
       "      <td>0.000005</td>\n",
       "      <td>1.0</td>\n",
       "      <td>0.0</td>\n",
       "      <td>0.0</td>\n",
       "      <td>0.0</td>\n",
       "      <td>-0.011309</td>\n",
       "      <td>0.011309</td>\n",
       "      <td>-0.011309</td>\n",
       "      <td>0</td>\n",
       "      <td>49.134747</td>\n",
       "    </tr>\n",
       "    <tr>\n",
       "      <th>1</th>\n",
       "      <td>1</td>\n",
       "      <td>1</td>\n",
       "      <td>2</td>\n",
       "      <td>6</td>\n",
       "      <td>1.016675e-02</td>\n",
       "      <td>2</td>\n",
       "      <td>0.035405</td>\n",
       "      <td>0.340956</td>\n",
       "      <td>6.065254</td>\n",
       "      <td>6.093535</td>\n",
       "      <td>...</td>\n",
       "      <td>0.000005</td>\n",
       "      <td>1.0</td>\n",
       "      <td>0.0</td>\n",
       "      <td>0.0</td>\n",
       "      <td>0.0</td>\n",
       "      <td>-0.011309</td>\n",
       "      <td>0.011309</td>\n",
       "      <td>-0.011309</td>\n",
       "      <td>0</td>\n",
       "      <td>31.909667</td>\n",
       "    </tr>\n",
       "    <tr>\n",
       "      <th>2</th>\n",
       "      <td>1</td>\n",
       "      <td>1</td>\n",
       "      <td>26</td>\n",
       "      <td>4</td>\n",
       "      <td>1.167235e-08</td>\n",
       "      <td>0</td>\n",
       "      <td>0.033090</td>\n",
       "      <td>0.385198</td>\n",
       "      <td>6.065254</td>\n",
       "      <td>6.093535</td>\n",
       "      <td>...</td>\n",
       "      <td>0.000005</td>\n",
       "      <td>1.0</td>\n",
       "      <td>0.0</td>\n",
       "      <td>0.0</td>\n",
       "      <td>0.0</td>\n",
       "      <td>0.011309</td>\n",
       "      <td>-0.011309</td>\n",
       "      <td>0.011309</td>\n",
       "      <td>1</td>\n",
       "      <td>49.135806</td>\n",
       "    </tr>\n",
       "    <tr>\n",
       "      <th>3</th>\n",
       "      <td>1</td>\n",
       "      <td>1</td>\n",
       "      <td>26</td>\n",
       "      <td>5</td>\n",
       "      <td>3.516638e-20</td>\n",
       "      <td>1</td>\n",
       "      <td>0.033090</td>\n",
       "      <td>0.385195</td>\n",
       "      <td>6.065254</td>\n",
       "      <td>6.093535</td>\n",
       "      <td>...</td>\n",
       "      <td>0.000005</td>\n",
       "      <td>1.0</td>\n",
       "      <td>0.0</td>\n",
       "      <td>0.0</td>\n",
       "      <td>0.0</td>\n",
       "      <td>0.011309</td>\n",
       "      <td>-0.011309</td>\n",
       "      <td>0.011309</td>\n",
       "      <td>1</td>\n",
       "      <td>49.134747</td>\n",
       "    </tr>\n",
       "    <tr>\n",
       "      <th>4</th>\n",
       "      <td>1</td>\n",
       "      <td>1</td>\n",
       "      <td>26</td>\n",
       "      <td>6</td>\n",
       "      <td>1.016675e-02</td>\n",
       "      <td>2</td>\n",
       "      <td>0.035405</td>\n",
       "      <td>0.340956</td>\n",
       "      <td>6.065254</td>\n",
       "      <td>6.093535</td>\n",
       "      <td>...</td>\n",
       "      <td>0.000005</td>\n",
       "      <td>1.0</td>\n",
       "      <td>0.0</td>\n",
       "      <td>0.0</td>\n",
       "      <td>0.0</td>\n",
       "      <td>0.011309</td>\n",
       "      <td>-0.011309</td>\n",
       "      <td>0.011309</td>\n",
       "      <td>1</td>\n",
       "      <td>31.909667</td>\n",
       "    </tr>\n",
       "  </tbody>\n",
       "</table>\n",
       "<p>5 rows × 21 columns</p>\n",
       "</div>"
      ],
      "text/plain": [
       "   k_inds  q_inds  k+q_inds  im_mode     g_element  q_id  q_en [eV]        BE  \\\n",
       "0       1       1         2        5  6.279619e-20     1   0.033090  0.385195   \n",
       "1       1       1         2        6  1.016675e-02     2   0.035405  0.340956   \n",
       "2       1       1        26        4  1.167235e-08     0   0.033090  0.385198   \n",
       "3       1       1        26        5  3.516638e-20     1   0.033090  0.385195   \n",
       "4       1       1        26        6  1.016675e-02     2   0.035405  0.340956   \n",
       "\n",
       "   k_en [eV]  k+q_en [eV]  ...    k+q_FD  collision_state  kx [1/A]  ky [1/A]  \\\n",
       "0   6.065254     6.093535  ...  0.000005              1.0       0.0       0.0   \n",
       "1   6.065254     6.093535  ...  0.000005              1.0       0.0       0.0   \n",
       "2   6.065254     6.093535  ...  0.000005              1.0       0.0       0.0   \n",
       "3   6.065254     6.093535  ...  0.000005              1.0       0.0       0.0   \n",
       "4   6.065254     6.093535  ...  0.000005              1.0       0.0       0.0   \n",
       "\n",
       "   kz [1/A]  kqx [1/A]  kqy [1/A]  kqz [1/A]  k_pair_id   gaussian  \n",
       "0       0.0  -0.011309   0.011309  -0.011309          0  49.134747  \n",
       "1       0.0  -0.011309   0.011309  -0.011309          0  31.909667  \n",
       "2       0.0   0.011309  -0.011309   0.011309          1  49.135806  \n",
       "3       0.0   0.011309  -0.011309   0.011309          1  49.134747  \n",
       "4       0.0   0.011309  -0.011309   0.011309          1  31.909667  \n",
       "\n",
       "[5 rows x 21 columns]"
      ]
     },
     "execution_count": 109,
     "metadata": {},
     "output_type": "execute_result"
    }
   ],
   "source": [
    "full_g_df.head()"
   ]
  },
  {
   "cell_type": "code",
   "execution_count": 110,
   "metadata": {},
   "outputs": [],
   "source": [
    "def scattering_rate(g_df):\n",
    "    \"\"\"\n",
    "    This function takes a list of k-point indices and returns the Fermi-distributions and energies associated with each k-point on that list. The Fermi distributions are calculated with respect to a particular chemical potential.      \n",
    "    Parameters:\n",
    "    -----------\n",
    "    \n",
    "    abs_g_df : pandas dataframe containing:\n",
    "\n",
    "        k_inds : vector_like, shape (n,1)\n",
    "        Index of k point (pre-collision)\n",
    "        \n",
    "        q_inds : vector_like, shape (n,1)\n",
    "        Index of q point\n",
    "        \n",
    "        k+q_inds : vector_like, shape (n,1)\n",
    "        Index of k point (post-collision)\n",
    "        \n",
    "        m_band : vector_like, shape (n,1)\n",
    "        Band index of post-collision state\n",
    "        \n",
    "        n_band : vector_like, shape (n,1)\n",
    "        Band index of pre-collision state\n",
    "        \n",
    "        im_mode : vector_like, shape (n,1)\n",
    "        Polarization of phonon mode\n",
    "        \n",
    "        g_element : vector_like, shape (n,1)\n",
    "        E-ph matrix element\n",
    "        \n",
    "        k_fermi_dist : vector_like, shape (n,1)\n",
    "        Fermi distribution of pre collision state\n",
    "        \n",
    "        k+q_fermi_dist : vector_like, shape (n,1)\n",
    "        Fermi distribution of post collision state\n",
    "        \n",
    "        k_energy : vector_like, shape (n,1)\n",
    "        Energy of the pre collision state\n",
    "        \n",
    "        k+q_energy : vector_like, shape (n,1)\n",
    "        Energy of the post collision state\n",
    "        \n",
    "            \n",
    "    T : scalar\n",
    "    Lattice temperature in Kelvin\n",
    "    \n",
    "    Returns:\n",
    "    --------\n",
    "    \n",
    "    \n",
    "         \n",
    "    \"\"\"\n",
    "    \n",
    "    \n",
    "    # Physical constants\n",
    "    e = 1.602*10**(-19) # fundamental electronic charge [C]\n",
    "    kb = 1.38064852*10**(-23); # Boltzmann constant in SI [m^2 kg s^-2 K^-1]\n",
    "    h = 1.0545718*10**(-34)\n",
    "        \n",
    "    g_df_ems = g_df.loc[(g_df['collision_state'] == -1)].copy(deep=True)\n",
    "    g_df_abs = g_df.loc[(g_df['collision_state'] == 1)].copy(deep=True)\n",
    "    \n",
    "    g_df_ems['weight'] = np.multiply(np.multiply(g_df_ems['BE'].values + 1 - g_df_ems['k+q_FD'].values,g_df_ems['g_element'].values),g_df_ems['gaussian'])/13.6056980659\n",
    "    g_df_abs['weight'] = np.multiply(np.multiply((g_df_abs['BE'].values + g_df_abs['k+q_FD'].values),g_df_abs['g_element'].values),g_df_ems['gaussian'])/13.6056980659\n",
    "    \n",
    "    \n",
    "    abs_sr = g_df_abs.groupby(['k_inds'])['weight'].agg('sum')*2*np.pi*2.418*10**(17)*10**(-12)/len(np.unique(g_df['q_id'].values))\n",
    "    abs_scattering = abs_sr.to_frame().reset_index()\n",
    "    \n",
    "    ems_sr = g_df_ems.groupby(['k_inds'])['weight'].agg('sum')*2*np.pi*2.418*10**(17)*10**(-12)/len(np.unique(g_df['q_id'].values))\n",
    "    ems_scattering = ems_sr.to_frame().reset_index()\n",
    "    \n",
    "    return ems_scattering,abs_scattering"
   ]
  },
  {
   "cell_type": "code",
   "execution_count": 111,
   "metadata": {},
   "outputs": [],
   "source": [
    "ems_scattering,abs_scattering = scattering_rate(full_g_df)"
   ]
  },
  {
   "cell_type": "code",
   "execution_count": 112,
   "metadata": {},
   "outputs": [],
   "source": [
    "abs_scattering_array = np.zeros(len(np.unique(enk_df['k_inds'])))\n",
    "ems_scattering_array = np.zeros(len(np.unique(enk_df['k_inds'])))\n",
    "abs_scattering_array[abs_scattering['k_inds'].values-1] = abs_scattering['weight'].values\n",
    "ems_scattering_array[ems_scattering['k_inds'].values-1] = ems_scattering['weight'].values"
   ]
  },
  {
   "cell_type": "code",
   "execution_count": 120,
   "metadata": {},
   "outputs": [
    {
     "data": {
      "image/png": "[encoded data removed]",
      "text/plain": [
       "<Figure size 864x720 with 1 Axes>"
      ]
     },
     "metadata": {
      "needs_background": "light"
     },
     "output_type": "display_data"
    }
   ],
   "source": [
    "import matplotlib.cm as cm\n",
    "plt.rcParams.update({'font.size': 40})\n",
    "plt.rcParams.update({'lines.linewidth': 3.5})\n",
    "\n",
    "fig = plt.figure(figsize=(12,10))\n",
    "ax = plt.gca()\n",
    "\n",
    "\n",
    "plt.scatter((enk_df['energy [Ryd]'].values-enk_df['energy [Ryd]'].min())*13.6056980659,(abs_scattering_array+ems_scattering_array),c = 'Red')\n",
    "#plt.ticklabel_format(style='sci', axis='y', scilimits=(0,0))\n",
    "#plt.ticklabel_format(style='sci', axis='x', scilimits=(0,0))\n",
    "plt.ylabel('Scattering Rate [1/ps]')\n",
    "plt.xlabel('Energy [eV]')\n",
    "#plt.legend()\n",
    "plt.ylim((-0.1,20.1))\n",
    "plt.show()\n",
    "fig.savefig('test.png', bbox_inches='tight')"
   ]
  },
  {
   "cell_type": "code",
   "execution_count": 123,
   "metadata": {},
   "outputs": [
    {
     "data": {
      "text/plain": [
       "15709216"
      ]
     },
     "execution_count": 123,
     "metadata": {},
     "output_type": "execute_result"
    }
   ],
   "source": [
    "len(full_g_df)"
   ]
  },
  {
   "cell_type": "code",
   "execution_count": 136,
   "metadata": {},
   "outputs": [
    {
     "data": {
      "text/plain": [
       "0.9922069949257811"
      ]
     },
     "execution_count": 136,
     "metadata": {},
     "output_type": "execute_result"
    }
   ],
   "source": [
    "np.sum(full_g_df['k_en [eV]'] > (full_g_df['k_en [eV]'].min()+ 0.25))/len(full_g_df)"
   ]
  },
  {
   "cell_type": "code",
   "execution_count": 138,
   "metadata": {},
   "outputs": [],
   "source": [
    "del ems_scattering\n",
    "del abs_scattering"
   ]
  },
  {
   "cell_type": "code",
   "execution_count": 209,
   "metadata": {},
   "outputs": [],
   "source": [
    "def coupling_matrix_calc(g_df):\n",
    "    \"\"\"\n",
    "    This function takes a list of k-point indices and returns the Fermi-distributions and energies associated with each k-point on that list. The Fermi distributions are calculated with respect to a particular chemical potential.      \n",
    "    Parameters:\n",
    "    -----------\n",
    "    \n",
    "    abs_g_df : pandas dataframe containing:\n",
    "\n",
    "        k_inds : vector_like, shape (n,1)\n",
    "        Index of k point (pre-collision)\n",
    "        \n",
    "        q_inds : vector_like, shape (n,1)\n",
    "        Index of q point\n",
    "        \n",
    "        k+q_inds : vector_like, shape (n,1)\n",
    "        Index of k point (post-collision)\n",
    "        \n",
    "        m_band : vector_like, shape (n,1)\n",
    "        Band index of post-collision state\n",
    "        \n",
    "        n_band : vector_like, shape (n,1)\n",
    "        Band index of pre-collision state\n",
    "        \n",
    "        im_mode : vector_like, shape (n,1)\n",
    "        Polarization of phonon mode\n",
    "        \n",
    "        g_element : vector_like, shape (n,1)\n",
    "        E-ph matrix element\n",
    "        \n",
    "        k_fermi_dist : vector_like, shape (n,1)\n",
    "        Fermi distribution of pre collision state\n",
    "        \n",
    "        k+q_fermi_dist : vector_like, shape (n,1)\n",
    "        Fermi distribution of post collision state\n",
    "        \n",
    "        k_energy : vector_like, shape (n,1)\n",
    "        Energy of the pre collision state\n",
    "        \n",
    "        k+q_energy : vector_like, shape (n,1)\n",
    "        Energy of the post collision state\n",
    "        \n",
    "            \n",
    "    T : scalar\n",
    "    Lattice temperature in Kelvin\n",
    "    \n",
    "    Returns:\n",
    "    --------\n",
    "    \n",
    "    \n",
    "         \n",
    "    \"\"\"\n",
    "    \n",
    "    \n",
    "    # Physical constants\n",
    "    e = 1.602*10**(-19) # fundamental electronic charge [C]\n",
    "    kb = 1.38064852*10**(-23); # Boltzmann constant in SI [m^2 kg s^-2 K^-1]\n",
    "    h = 1.0545718*10**(-34)\n",
    "    \n",
    "    g_df_ems = g_df.loc[(g_df['collision_state'] == -1)].copy(deep=True)\n",
    "    g_df_abs = g_df.loc[(g_df['collision_state'] == 1)].copy(deep=True)\n",
    "    \n",
    "    g_df_ems['weight'] = np.multiply(np.multiply((g_df_ems['BE'].values + 1 - g_df_ems['k+q_FD'].values),g_df_ems['g_element'].values),g_df_ems['gaussian'])/13.6056980659\n",
    "    g_df_abs['weight'] = np.multiply(np.multiply((g_df_abs['BE'].values + g_df_abs['k+q_FD'].values),g_df_abs['g_element'].values),g_df_abs['gaussian'])/13.6056980659 \n",
    "    \n",
    "    abs_sr = g_df_abs.groupby(['k_inds', 'k+q_inds'])['weight'].agg('sum')\n",
    "    summed_abs_df = abs_sr.to_frame().reset_index()\n",
    "    \n",
    "    ems_sr = g_df_ems.groupby(['k_inds', 'k+q_inds'])['weight'].agg('sum')\n",
    "    summed_ems_df = ems_sr.to_frame().reset_index()\n",
    "    \n",
    "    return summed_abs_df,summed_ems_df"
   ]
  },
  {
   "cell_type": "code",
   "execution_count": 210,
   "metadata": {},
   "outputs": [],
   "source": [
    "summed_abs_df,summed_ems_df = coupling_matrix_calc(full_g_df)"
   ]
  },
  {
   "cell_type": "code",
   "execution_count": 211,
   "metadata": {},
   "outputs": [],
   "source": [
    "abs_array = np.zeros((len(np.unique(enk_df['k_inds'])),len(np.unique(enk_df['k_inds']))))\n",
    "ems_array = np.zeros((len(np.unique(enk_df['k_inds'])),len(np.unique(enk_df['k_inds']))))\n",
    "\n",
    "abs_array[summed_abs_df['k_inds'].values-1,summed_abs_df['k+q_inds'].values-1] = summed_abs_df['weight'].values\n",
    "ems_array[summed_ems_df['k_inds'].values-1,summed_ems_df['k+q_inds'].values-1] = summed_ems_df['weight'].values"
   ]
  },
  {
   "cell_type": "code",
   "execution_count": 212,
   "metadata": {},
   "outputs": [
    {
     "data": {
      "text/plain": [
       "(1595940, 1595940, 15709216)"
      ]
     },
     "execution_count": 212,
     "metadata": {},
     "output_type": "execute_result"
    }
   ],
   "source": [
    "len(summed_abs_df),len(summed_ems_df),len(full_g_df)"
   ]
  },
  {
   "cell_type": "code",
   "execution_count": 213,
   "metadata": {},
   "outputs": [
    {
     "data": {
      "text/html": [
       "<div>\n",
       "<style scoped>\n",
       "    .dataframe tbody tr th:only-of-type {\n",
       "        vertical-align: middle;\n",
       "    }\n",
       "\n",
       "    .dataframe tbody tr th {\n",
       "        vertical-align: top;\n",
       "    }\n",
       "\n",
       "    .dataframe thead th {\n",
       "        text-align: right;\n",
       "    }\n",
       "</style>\n",
       "<table border=\"1\" class=\"dataframe\">\n",
       "  <thead>\n",
       "    <tr style=\"text-align: right;\">\n",
       "      <th></th>\n",
       "      <th>k_inds</th>\n",
       "      <th>k+q_inds</th>\n",
       "      <th>weight</th>\n",
       "    </tr>\n",
       "  </thead>\n",
       "  <tbody>\n",
       "    <tr>\n",
       "      <th>106</th>\n",
       "      <td>4</td>\n",
       "      <td>56</td>\n",
       "      <td>0.000586</td>\n",
       "    </tr>\n",
       "  </tbody>\n",
       "</table>\n",
       "</div>"
      ],
      "text/plain": [
       "     k_inds  k+q_inds    weight\n",
       "106       4        56  0.000586"
      ]
     },
     "execution_count": 213,
     "metadata": {},
     "output_type": "execute_result"
    }
   ],
   "source": [
    "summed_abs_df.loc[(summed_abs_df['k_inds']==4)&(summed_abs_df['k+q_inds']==56)]"
   ]
  },
  {
   "cell_type": "code",
   "execution_count": 214,
   "metadata": {},
   "outputs": [
    {
     "data": {
      "text/html": [
       "<div>\n",
       "<style scoped>\n",
       "    .dataframe tbody tr th:only-of-type {\n",
       "        vertical-align: middle;\n",
       "    }\n",
       "\n",
       "    .dataframe tbody tr th {\n",
       "        vertical-align: top;\n",
       "    }\n",
       "\n",
       "    .dataframe thead th {\n",
       "        text-align: right;\n",
       "    }\n",
       "</style>\n",
       "<table border=\"1\" class=\"dataframe\">\n",
       "  <thead>\n",
       "    <tr style=\"text-align: right;\">\n",
       "      <th></th>\n",
       "      <th>k_inds</th>\n",
       "      <th>k+q_inds</th>\n",
       "      <th>weight</th>\n",
       "    </tr>\n",
       "  </thead>\n",
       "  <tbody>\n",
       "    <tr>\n",
       "      <th>16719</th>\n",
       "      <td>56</td>\n",
       "      <td>4</td>\n",
       "      <td>0.000616</td>\n",
       "    </tr>\n",
       "  </tbody>\n",
       "</table>\n",
       "</div>"
      ],
      "text/plain": [
       "       k_inds  k+q_inds    weight\n",
       "16719      56         4  0.000616"
      ]
     },
     "execution_count": 214,
     "metadata": {},
     "output_type": "execute_result"
    }
   ],
   "source": [
    "summed_ems_df.loc[(summed_ems_df['k_inds']==56)&(summed_ems_df['k+q_inds']==4)]"
   ]
  },
  {
   "cell_type": "code",
   "execution_count": 264,
   "metadata": {},
   "outputs": [],
   "source": [
    "collision_array = np.transpose(abs_array+ems_array)-(abs_array+ems_array)"
   ]
  },
  {
   "cell_type": "code",
   "execution_count": 249,
   "metadata": {},
   "outputs": [],
   "source": [
    "sorted_indices = cart_kpts_df.sort_values(['kx [1/A]','ky [1/A]','kz [1/A]'],ascending=True)['k_inds'].values-1"
   ]
  },
  {
   "cell_type": "code",
   "execution_count": 292,
   "metadata": {},
   "outputs": [],
   "source": [
    "i = np.argsort(sorted_indices)\n",
    "switch1 = collision_array[:,i]\n",
    "switch2 = switch1[i,:]"
   ]
  },
  {
   "cell_type": "code",
   "execution_count": 255,
   "metadata": {},
   "outputs": [
    {
     "data": {
      "text/plain": [
       "array([[0., 0., 0., ..., 0., 0., 0.],\n",
       "       [0., 0., 0., ..., 0., 0., 0.],\n",
       "       [0., 0., 0., ..., 0., 0., 0.],\n",
       "       ...,\n",
       "       [0., 0., 0., ..., 0., 0., 0.],\n",
       "       [0., 0., 0., ..., 0., 0., 0.],\n",
       "       [0., 0., 0., ..., 0., 0., 0.]])"
      ]
     },
     "execution_count": 255,
     "metadata": {},
     "output_type": "execute_result"
    }
   ],
   "source": [
    "collision_array[sorted_indices]-np.transpose(collision_array[sorted_indices])"
   ]
  },
  {
   "cell_type": "code",
   "execution_count": 299,
   "metadata": {},
   "outputs": [
    {
     "data": {
      "text/plain": [
       "<Figure size 432x288 with 0 Axes>"
      ]
     },
     "metadata": {},
     "output_type": "display_data"
    },
    {
     "data": {
      "image/png": "[encoded data removed]",
      "text/plain": [
       "<Figure size 1440x878.4 with 3 Axes>"
      ]
     },
     "metadata": {
      "needs_background": "light"
     },
     "output_type": "display_data"
    }
   ],
   "source": [
    "import numpy as np\n",
    "import matplotlib.pyplot as plt\n",
    "plt.set_cmap('inferno')\n",
    "fig = plt.figure(figsize=(20, 12.2))\n",
    "plt.rcParams.update({'font.size': 20})\n",
    "\n",
    "ax = fig.add_subplot(111)\n",
    "ax.set_title('Collision Matrix')\n",
    "plt.imshow(np.abs(switch2)/np.max(collision_array),origin = 'lower')\n",
    "ax.set_aspect('equal')\n",
    "plt.xlabel('k index')\n",
    "plt.ylabel('k_p index')\n",
    "\n",
    "cax = fig.add_axes([0.12, 0.1, 0.75, 0.82])\n",
    "cax.get_xaxis().set_visible(False)\n",
    "cax.get_yaxis().set_visible(False)\n",
    "cax.patch.set_alpha(0)\n",
    "cax.set_frame_on(False)\n",
    "cbar = plt.colorbar(orientation='vertical')\n",
    "cbar.set_label('Coupling Rate [arb]')\n",
    "fig.savefig('test.png', bbox_inches='tight')\n",
    "plt.show()"
   ]
  },
  {
   "cell_type": "code",
   "execution_count": 261,
   "metadata": {},
   "outputs": [],
   "source": [
    "def check_symmetric(a, rtol=1e-05, atol=1e-08):\n",
    "    return np.allclose(a, a.T, rtol=rtol, atol=atol)"
   ]
  },
  {
   "cell_type": "code",
   "execution_count": 270,
   "metadata": {},
   "outputs": [
    {
     "data": {
      "text/plain": [
       "True"
      ]
     },
     "execution_count": 270,
     "metadata": {},
     "output_type": "execute_result"
    }
   ],
   "source": [
    "check_symmetric(np.abs(collision_array))"
   ]
  },
  {
   "cell_type": "code",
   "execution_count": 265,
   "metadata": {},
   "outputs": [
    {
     "data": {
      "text/plain": [
       "array([-0.40949275, -0.07561754,  0.07199047, ..., -0.19066504,\n",
       "        0.03518442, -0.07537351])"
      ]
     },
     "execution_count": 265,
     "metadata": {},
     "output_type": "execute_result"
    }
   ],
   "source": [
    "np.sum(collision_array,axis=0)"
   ]
  },
  {
   "cell_type": "markdown",
   "metadata": {},
   "source": [
    "## Data validation (Peishi Updated: 4/30)"
   ]
  },
  {
   "cell_type": "code",
   "execution_count": 110,
   "metadata": {},
   "outputs": [],
   "source": [
    "def plot_bandstructure(kpts, enk): \n",
    "    '''Plots electron bandstructure. \n",
    "    \n",
    "    Path is hardcoded for FCC unit cell. Currently just plotting Gamma-L and Gamma-X \n",
    "    \n",
    "    Parameters: \n",
    "    ------------ \n",
    "    kpts : dataframe containing \n",
    "        k_inds : vector_like, shape (n,1) \n",
    "        Index of k point \n",
    "\n",
    "        'kx [1/A]' : vector_like, shape (n,1) \n",
    "        x-coordinate in Cartesian momentum space     \n",
    "\n",
    "        'ky [1/A]' : vector_like, shape (n,1) \n",
    "        y-coordinate in Cartesian momentum space \n",
    "\n",
    "        'kz [1/A]' : vector_like, shape (n,1) \n",
    "        z-coordinate in Cartesian momentum space \n",
    "\n",
    "    enk : dataframe containing \n",
    "        k_inds : vector_like, shape (n,1) \n",
    "        Index of k point \n",
    "\n",
    "        band_inds : vector_like, shape (n,1) \n",
    "        Band index \n",
    "\n",
    "        energy [Ryd] : vector_like, shape (n,1) \n",
    "        Energy associated with k point in Rydberg units \n",
    "\n",
    "    Returns: \n",
    "    --------- \n",
    "    No variable returns. Just plots the dispersion  \n",
    "    '''\n",
    "    \n",
    "    # Lattice constant and reciprocal lattice vectors \n",
    "    # b1 = 2 pi/a (kx - ky + kz) \n",
    "    # b2 = 2 pi/a (kx + ky - kz) \n",
    "    # b3 = 2 pi/a (-kx + ky + kz) \n",
    "    a = 5.556 #[A] \n",
    "    b1 = (2*np.pi/a) * np.array([1, -1, 1]) \n",
    "    b2 = (2*np.pi/a) * np.array([1, 1, -1]) \n",
    "    b3 = (2*np.pi/a) * np.array([-1, 1, 1]) \n",
    "\n",
    "    # L point in BZ is given by 0.5*b1 + 0.5*b2 + 0.5*b3 \n",
    "    # X point in BZ is given by 0.5*b2 + 0.5*b3 \n",
    "    lpoint = 0.5 * (b1 + b2 + b3) \n",
    "    xpoint = 0.5 * (b2 + b3) \n",
    "\n",
    "    # We can find kpoints along a path just by considering a dot product with lpoint and xpoint vectors. \n",
    "    # Any kpoints with angle smaller than some tolerance are considered on the path and we can plot their corresponding frequencies \n",
    "    deg2rad = 2*np.pi/360 \n",
    "    ang_tol = 1 * deg2rad  # 1 degree in radians \n",
    "\n",
    "    enkonly = np.array(enk['energy [Ryd]'])[:, np.newaxis] \n",
    "    kptsonly = np.array(kpts[['kx [1/A]', 'ky [1/A]', 'kz [1/A]']]) / (2*np.pi/a) \n",
    "    kptsmag = np.linalg.norm(kptsonly, axis=1)[:, np.newaxis] \n",
    "\n",
    "    dot_l = np.zeros(len(kpts))\n",
    "    dot_x = np.zeros(len(kpts))\n",
    "\n",
    "    # Separate assignment for gamma point to avoid divide by zero error\n",
    "    nongamma = kptsmag!=0\n",
    "    dot_l[np.squeeze(nongamma)] = np.divide(np.dot(kptsonly, lpoint[:, np.newaxis])[nongamma], kptsmag[nongamma]) / np.linalg.norm(lpoint) \n",
    "    dot_x[np.squeeze(nongamma)] = np.divide(np.dot(kptsonly, xpoint[:, np.newaxis])[nongamma], kptsmag[nongamma]) / np.linalg.norm(xpoint) \n",
    "    dot_l[np.squeeze(kptsmag==0)] = 0 \n",
    "    dot_x[np.squeeze(kptsmag==0)] = 0 \n",
    "\n",
    "    lpath = np.logical_or(np.arccos(dot_l) < ang_tol, np.squeeze(kptsmag == 0))\n",
    "    xpath = np.logical_or(np.arccos(dot_x) < ang_tol, np.squeeze(kptsmag == 0))\n",
    "\n",
    "    plt.figure() \n",
    "    plt.plot(kptsmag[lpath], enkonly[lpath], '.') \n",
    "    plt.plot(-1*kptsmag[xpath], enkonly[xpath], '.') \n",
    "    plt.xlabel('k magnitude') \n",
    "    plt.ylabel('Energy in Ry')\n",
    "    plt.show()"
   ]
  },
  {
   "cell_type": "code",
   "execution_count": 111,
   "metadata": {},
   "outputs": [
    {
     "data": {
      "image/png": "[encoded data removed]",
      "text/plain": [
       "<Figure size 432x288 with 1 Axes>"
      ]
     },
     "metadata": {
      "needs_background": "light"
     },
     "output_type": "display_data"
    }
   ],
   "source": [
    "plot_bandstructure(cart_kpts_df, enk_df)"
   ]
  },
  {
   "cell_type": "code",
   "execution_count": 112,
   "metadata": {},
   "outputs": [
    {
     "name": "stdout",
     "output_type": "stream",
     "text": [
      "(21080, 3)\n",
      "(21080, 1)\n",
      "(21080, 6)\n"
     ]
    },
    {
     "name": "stderr",
     "output_type": "stream",
     "text": [
      "/home/peishi/.local/lib/python3.6/site-packages/ipykernel_launcher.py:39: RuntimeWarning:\n",
      "\n",
      "invalid value encountered in arccos\n",
      "\n",
      "/home/peishi/.local/lib/python3.6/site-packages/ipykernel_launcher.py:39: RuntimeWarning:\n",
      "\n",
      "invalid value encountered in less\n",
      "\n"
     ]
    },
    {
     "data": {
      "image/png": "[encoded data removed]",
      "text/plain": [
       "<Figure size 432x288 with 1 Axes>"
      ]
     },
     "metadata": {
      "needs_background": "light"
     },
     "output_type": "display_data"
    }
   ],
   "source": [
    "# plot_bandstructure(edit_cart_qpts_df, enq_df)\n",
    "kpts = cart_kpts_df\n",
    "enk = enk_df\n",
    "\n",
    "kpts = edit_cart_qpts_df\n",
    "enk = enq_df\n",
    "\n",
    "a = 5.556 #[A] \n",
    "b1 = (2*np.pi/a) * np.array([1, -1, 1]) \n",
    "b2 = (2*np.pi/a) * np.array([1, 1, -1]) \n",
    "b3 = (2*np.pi/a) * np.array([-1, 1, 1]) \n",
    "\n",
    "# L point in BZ is given by 0.5*b1 + 0.5*b2 + 0.5*b3 \n",
    "# X point in BZ is given by 0.5*b2 + 0.5*b3 \n",
    "lpoint = 0.5 * (b1 + b2 + b3) \n",
    "xpoint = 0.5 * (b2 + b3) \n",
    "\n",
    "# We can find kpoints along a path just by considering a dot product with lpoint and xpoint vectors. \n",
    "# Any kpoints with angle smaller than some tolerance are considered on the path and we can plot their corresponding frequencies \n",
    "deg2rad = 2*np.pi/360 \n",
    "ang_tol = 1 * deg2rad  # 1 degree in radians \n",
    "\n",
    "kptsonly = np.array(kpts[['kx [1/A]', 'ky [1/A]', 'kz [1/A]']]) / (2*np.pi/a) \n",
    "kptsmag = np.linalg.norm(kptsonly, axis=1)[:, np.newaxis] \n",
    "\n",
    "print(kptsonly.shape)\n",
    "print(kptsmag.shape)\n",
    "\n",
    "dot_l = np.zeros(len(kpts))\n",
    "dot_x = np.zeros(len(kpts))\n",
    "\n",
    "# Separate assignment for gamma point to avoid divide by zero error\n",
    "nongamma = kptsmag!=0\n",
    "dot_l[np.squeeze(nongamma)] = np.divide(np.dot(kptsonly, lpoint[:, np.newaxis])[nongamma], kptsmag[nongamma]) / np.linalg.norm(lpoint) \n",
    "dot_x[np.squeeze(nongamma)] = np.divide(np.dot(kptsonly, xpoint[:, np.newaxis])[nongamma], kptsmag[nongamma]) / np.linalg.norm(xpoint) \n",
    "dot_l[np.squeeze(kptsmag==0)] = 0 \n",
    "dot_x[np.squeeze(kptsmag==0)] = 0 \n",
    "\n",
    "lpath = np.logical_or(np.arccos(dot_l) < ang_tol, np.squeeze(kptsmag == 0))\n",
    "xpath = np.logical_or(np.arccos(dot_x) < ang_tol, np.squeeze(kptsmag == 0))\n",
    "\n",
    "# Need to reshape the energy dataframe for easy plotting if there are multiple bands\n",
    "enk_ra = np.array(enk.iloc[:,:])\n",
    "enk_ra.sort(axis=0)\n",
    "nk = int(np.max(enk_ra[:, 0]))  # nk = number of kpts = highest kpts index\n",
    "if np.mod(len(enk_ra), nk) != 0:\n",
    "    exit('Something is wack with the number of bands and kpoints in the array')\n",
    "else:\n",
    "    nb = int(len(enk_ra) / nk)\n",
    "enkonly = enk_ra[:, 2]\n",
    "enk_by_band = np.reshape(enkonly, (nk, nb), order='C')\n",
    "\n",
    "print(enk_by_band.shape)\n",
    "\n",
    "plt.figure()\n",
    "for b in range(nb):\n",
    "    plt.plot(kptsmag[lpath], enk_by_band[lpath, b], '.', color='C0') \n",
    "    plt.plot(-1*kptsmag[xpath], enk_by_band[xpath, b], '.', color='C1') \n",
    "plt.xlabel('k magnitude') \n",
    "plt.ylabel('Energy in Ry')\n",
    "plt.show()"
   ]
  },
  {
   "cell_type": "code",
   "execution_count": null,
   "metadata": {},
   "outputs": [],
   "source": []
  }
 ],
 "metadata": {
  "kernelspec": {
   "display_name": "Python 3",
   "language": "python",
   "name": "python3"
  },
  "language_info": {
   "codemirror_mode": {
    "name": "ipython",
    "version": 3
   },
   "file_extension": ".py",
   "mimetype": "text/x-python",
   "name": "python",
   "nbconvert_exporter": "python",
   "pygments_lexer": "ipython3",
   "version": "3.7.3"
  }
 },
 "nbformat": 4,
 "nbformat_minor": 2
}
